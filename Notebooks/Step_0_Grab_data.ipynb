{
 "cells": [
  {
   "cell_type": "markdown",
   "metadata": {},
   "source": [
    "# Step 0: Grab data files from NCES\n",
    "# This page is just to grab the files we need\n",
    "\n",
    "## At the core, each \"survey\" file has the csv data along with a dictionary for deciphering it\n",
    "### These will be do"
   ]
  },
  {
   "cell_type": "code",
   "execution_count": 1,
   "metadata": {},
   "outputs": [],
   "source": [
    "import pandas as pd\n",
    "import numpy as np\n",
    "from zipfile import ZipFile\n",
    "import csv"
   ]
  },
  {
   "cell_type": "code",
   "execution_count": 17,
   "metadata": {},
   "outputs": [],
   "source": [
    "# This function is just a utility for grabbing the files\n",
    "import urllib\n",
    "import io\n",
    "import os\n",
    "\n",
    "def grab_zipfile(baseUrl, fileroot):\n",
    "    '''uses a known static baseUrl to grab a zipped archive'''\n",
    "    full_url = baseUrl + fileroot + '.zip'\n",
    "    print(full_url, flush=True)\n",
    "    remoteFile = urllib.request.urlopen(full_url)\n",
    "\n",
    "    bio = io.BytesIO()\n",
    "    bio.write(remoteFile.read())\n",
    "\n",
    "    z = ZipFile(bio, 'r')\n",
    "    print(z.namelist(), flush=True)\n",
    "    z.extract(z.namelist()[0])\n",
    "    return z.namelist()[0]"
   ]
  },
  {
   "cell_type": "code",
   "execution_count": 33,
   "metadata": {},
   "outputs": [],
   "source": [
    "os.mkdir('inputs')\n",
    "os.chdir('inputs')"
   ]
  },
  {
   "cell_type": "code",
   "execution_count": 16,
   "metadata": {
    "scrolled": true
   },
   "outputs": [
    {
     "name": "stdout",
     "output_type": "stream",
     "text": [
      "https://nces.ed.gov/ipeds/datacenter/data/GR2016.zip\n",
      "['gr2016.csv']\n",
      "https://nces.ed.gov/ipeds/datacenter/data/GR2016_DICT.zip\n",
      "['gr2016.xlsx']\n"
     ]
    },
    {
     "data": {
      "text/plain": [
       "'gr2016.xlsx'"
      ]
     },
     "execution_count": 16,
     "metadata": {},
     "output_type": "execute_result"
    }
   ],
   "source": [
    "# Here's where the files live:\n",
    "baseUrl = 'https://nces.ed.gov/ipeds/datacenter/data/'\n",
    "\n",
    "# Grad rate data; for each file, we typically try 2 more years than the prior year and if that file doesn't exist, try one more\n",
    "fileroot = 'GR2016'\n",
    "\n",
    "grab_zipfile(baseUrl, fileroot)\n",
    "grab_zipfile(baseUrl, fileroot+'_DICT')\n"
   ]
  },
  {
   "cell_type": "code",
   "execution_count": 18,
   "metadata": {},
   "outputs": [
    {
     "name": "stdout",
     "output_type": "stream",
     "text": [
      "https://nces.ed.gov/ipeds/datacenter/data/GR2015.zip\n",
      "['gr2015.csv', 'gr2015_rv.csv']\n",
      "https://nces.ed.gov/ipeds/datacenter/data/GR2014.zip\n",
      "['gr2014.csv', 'gr2014_rv.csv']\n"
     ]
    },
    {
     "data": {
      "text/plain": [
       "'gr2014.csv'"
      ]
     },
     "execution_count": 18,
     "metadata": {},
     "output_type": "execute_result"
    }
   ],
   "source": [
    "# For grad rate only, we grab the 3 most recent years\n",
    "grab_zipfile(baseUrl, 'GR2015')\n",
    "grab_zipfile(baseUrl, 'GR2014')"
   ]
  },
  {
   "cell_type": "code",
   "execution_count": 19,
   "metadata": {},
   "outputs": [
    {
     "name": "stdout",
     "output_type": "stream",
     "text": [
      "https://nces.ed.gov/ipeds/datacenter/data/HD2017.zip\n",
      "['hd2017.csv']\n"
     ]
    },
    {
     "data": {
      "text/plain": [
       "'hd2017.csv'"
      ]
     },
     "execution_count": 19,
     "metadata": {},
     "output_type": "execute_result"
    }
   ],
   "source": [
    "# The master directory:\n",
    "grab_zipfile(baseUrl, 'HD2017')"
   ]
  },
  {
   "cell_type": "code",
   "execution_count": 20,
   "metadata": {},
   "outputs": [
    {
     "name": "stdout",
     "output_type": "stream",
     "text": [
      "https://nces.ed.gov/ipeds/datacenter/data/HD2017_DICT.zip\n",
      "['hd2017.xlsx']\n"
     ]
    },
    {
     "data": {
      "text/plain": [
       "'hd2017.xlsx'"
      ]
     },
     "execution_count": 20,
     "metadata": {},
     "output_type": "execute_result"
    }
   ],
   "source": [
    "grab_zipfile(baseUrl, 'HD2017_DICT')"
   ]
  },
  {
   "cell_type": "code",
   "execution_count": 22,
   "metadata": {},
   "outputs": [
    {
     "name": "stdout",
     "output_type": "stream",
     "text": [
      "https://nces.ed.gov/ipeds/datacenter/data/ADM2016.zip\n",
      "['adm2016.csv']\n",
      "https://nces.ed.gov/ipeds/datacenter/data/ADM2016_DICT.zip\n",
      "['adm2016.xlsx']\n"
     ]
    },
    {
     "data": {
      "text/plain": [
       "'adm2016.xlsx'"
      ]
     },
     "execution_count": 22,
     "metadata": {},
     "output_type": "execute_result"
    }
   ],
   "source": [
    "# Admissions\n",
    "grab_zipfile(baseUrl, 'ADM2016')\n",
    "grab_zipfile(baseUrl, 'ADM2016_DICT')"
   ]
  },
  {
   "cell_type": "code",
   "execution_count": 24,
   "metadata": {},
   "outputs": [
    {
     "name": "stdout",
     "output_type": "stream",
     "text": [
      "https://nces.ed.gov/ipeds/datacenter/data/EF2016A.zip\n",
      "['ef2016a.csv']\n",
      "https://nces.ed.gov/ipeds/datacenter/data/EF2016A_DICT.zip\n",
      "['ef2016a.xlsx']\n"
     ]
    },
    {
     "data": {
      "text/plain": [
       "'ef2016a.xlsx'"
      ]
     },
     "execution_count": 24,
     "metadata": {},
     "output_type": "execute_result"
    }
   ],
   "source": [
    "# Ethnicity\n",
    "grab_zipfile(baseUrl, 'EF2016A')\n",
    "grab_zipfile(baseUrl, 'EF2016A_DICT')"
   ]
  },
  {
   "cell_type": "code",
   "execution_count": 26,
   "metadata": {},
   "outputs": [
    {
     "name": "stdout",
     "output_type": "stream",
     "text": [
      "https://nces.ed.gov/ipeds/datacenter/data/EF2016D.zip\n",
      "['ef2016d.csv']\n",
      "https://nces.ed.gov/ipeds/datacenter/data/EF2016D_DICT.zip\n",
      "['ef2016d.xlsx']\n"
     ]
    },
    {
     "data": {
      "text/plain": [
       "'ef2016d.xlsx'"
      ]
     },
     "execution_count": 26,
     "metadata": {},
     "output_type": "execute_result"
    }
   ],
   "source": [
    "# Retention\n",
    "grab_zipfile(baseUrl, 'EF2016D')\n",
    "grab_zipfile(baseUrl, 'EF2016D_DICT')"
   ]
  },
  {
   "cell_type": "code",
   "execution_count": 27,
   "metadata": {},
   "outputs": [
    {
     "name": "stdout",
     "output_type": "stream",
     "text": [
      "https://nces.ed.gov/ipeds/datacenter/data/IC2016.zip\n",
      "['ic2016.csv']\n",
      "https://nces.ed.gov/ipeds/datacenter/data/IC2016_DICT.zip\n",
      "['ic2016.xlsx']\n"
     ]
    },
    {
     "data": {
      "text/plain": [
       "'ic2016.xlsx'"
      ]
     },
     "execution_count": 27,
     "metadata": {},
     "output_type": "execute_result"
    }
   ],
   "source": [
    "# Institutional Characteristics\n",
    "grab_zipfile(baseUrl, 'IC2016')\n",
    "grab_zipfile(baseUrl, 'IC2016_DICT')"
   ]
  },
  {
   "cell_type": "code",
   "execution_count": 29,
   "metadata": {},
   "outputs": [
    {
     "name": "stdout",
     "output_type": "stream",
     "text": [
      "https://nces.ed.gov/ipeds/datacenter/data/SFA1516.zip\n",
      "['sfa1516.csv']\n",
      "https://nces.ed.gov/ipeds/datacenter/data/SFA1516_DICT.zip\n",
      "['sfa1516.xlsx']\n"
     ]
    },
    {
     "data": {
      "text/plain": [
       "'sfa1516.xlsx'"
      ]
     },
     "execution_count": 29,
     "metadata": {},
     "output_type": "execute_result"
    }
   ],
   "source": [
    "# Student Financial Aid\n",
    "grab_zipfile(baseUrl, 'SFA1516')\n",
    "grab_zipfile(baseUrl, 'SFA1516_DICT')"
   ]
  },
  {
   "cell_type": "code",
   "execution_count": 34,
   "metadata": {},
   "outputs": [
    {
     "name": "stdout",
     "output_type": "stream",
     "text": [
      "https://nces.ed.gov/ipeds/datacenter/data/SFA1516_DICT.zip\n",
      "['sfa1516.xlsx']\n"
     ]
    },
    {
     "data": {
      "text/plain": [
       "'sfa1516.xlsx'"
      ]
     },
     "execution_count": 34,
     "metadata": {},
     "output_type": "execute_result"
    }
   ],
   "source": [
    "grab_zipfile(baseUrl, 'SFA1516_DICT')"
   ]
  },
  {
   "cell_type": "code",
   "execution_count": null,
   "metadata": {},
   "outputs": [],
   "source": []
  }
 ],
 "metadata": {
  "kernelspec": {
   "display_name": "Python 3",
   "language": "python",
   "name": "python3"
  },
  "language_info": {
   "codemirror_mode": {
    "name": "ipython",
    "version": 3
   },
   "file_extension": ".py",
   "mimetype": "text/x-python",
   "name": "python",
   "nbconvert_exporter": "python",
   "pygments_lexer": "ipython3",
   "version": "3.6.5"
  }
 },
 "nbformat": 4,
 "nbformat_minor": 2
}
