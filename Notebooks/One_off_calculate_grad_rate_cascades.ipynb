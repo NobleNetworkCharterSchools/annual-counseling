{
 "cells": [
  {
   "cell_type": "markdown",
   "metadata": {},
   "source": [
    "# This step combines some lines from Step 0 and Step 3\n",
    "## It is designed to update the \"cascade\" graphs showing grad rate by seats\n",
    "\n",
    "- Reference PPTX files for both before and after are in the Notebook directory"
   ]
  },
  {
   "cell_type": "code",
   "execution_count": 1,
   "metadata": {},
   "outputs": [],
   "source": [
    "import pandas as pd\n",
    "import numpy as np\n",
    "from zipfile import ZipFile\n",
    "import csv\n",
    "import os\n",
    "import io\n",
    "import urllib\n",
    "\n",
    "# Edit these to reflect any changes\n",
    "work_location = 'inputs'\n",
    "latest_year = 2019\n",
    "directory_file = f'hd{latest_year}.csv'\n",
    "gr_file = f'gr{latest_year}.csv'\n",
    "output_file = f'grad{latest_year}.csv'"
   ]
  },
  {
   "cell_type": "code",
   "execution_count": 2,
   "metadata": {},
   "outputs": [],
   "source": [
    "def grab_zipfile(baseUrl, fileroot):\n",
    "    '''uses a known static baseUrl to grab a zipped archive'''\n",
    "    full_url = baseUrl + fileroot + '.zip'\n",
    "    print(full_url, flush=True)\n",
    "    remoteFile = urllib.request.urlopen(full_url)\n",
    "\n",
    "    bio = io.BytesIO()\n",
    "    bio.write(remoteFile.read())\n",
    "\n",
    "    z = ZipFile(bio, 'r')\n",
    "    print(z.namelist(), flush=True)\n",
    "    z.extract(z.namelist()[0])\n",
    "    return z.namelist()[0]"
   ]
  },
  {
   "cell_type": "code",
   "execution_count": 3,
   "metadata": {},
   "outputs": [],
   "source": [
    "os.chdir(work_location)"
   ]
  },
  {
   "cell_type": "code",
   "execution_count": 4,
   "metadata": {},
   "outputs": [
    {
     "name": "stdout",
     "output_type": "stream",
     "text": [
      "https://nces.ed.gov/ipeds/datacenter/data/HD2019.zip\n",
      "['hd2019.csv']\n",
      "https://nces.ed.gov/ipeds/datacenter/data/HD2019_DICT.zip\n",
      "['hd2019.xlsx']\n"
     ]
    },
    {
     "data": {
      "text/plain": [
       "'hd2019.xlsx'"
      ]
     },
     "execution_count": 4,
     "metadata": {},
     "output_type": "execute_result"
    }
   ],
   "source": [
    "# Here's where the files live:\n",
    "baseUrl = 'https://nces.ed.gov/ipeds/datacenter/data/'\n",
    "\n",
    "# The master directory:\n",
    "grab_zipfile(baseUrl, f'HD{latest_year}')\n",
    "\n",
    "grab_zipfile(baseUrl, f'HD{latest_year}_DICT')"
   ]
  },
  {
   "cell_type": "code",
   "execution_count": 5,
   "metadata": {},
   "outputs": [
    {
     "name": "stdout",
     "output_type": "stream",
     "text": [
      "https://nces.ed.gov/ipeds/datacenter/data/GR2019.zip\n",
      "['gr2019.csv']\n",
      "https://nces.ed.gov/ipeds/datacenter/data/GR2019_DICT.zip\n",
      "['gr2019.xlsx']\n"
     ]
    },
    {
     "data": {
      "text/plain": [
       "'gr2019.xlsx'"
      ]
     },
     "execution_count": 5,
     "metadata": {},
     "output_type": "execute_result"
    }
   ],
   "source": [
    "# Most recent grad data\n",
    "fileroot = f'GR{latest_year}'\n",
    "\n",
    "grab_zipfile(baseUrl, fileroot)\n",
    "grab_zipfile(baseUrl, fileroot+'_DICT')"
   ]
  },
  {
   "cell_type": "code",
   "execution_count": 6,
   "metadata": {},
   "outputs": [
    {
     "data": {
      "text/html": [
       "<div>\n",
       "<style scoped>\n",
       "    .dataframe tbody tr th:only-of-type {\n",
       "        vertical-align: middle;\n",
       "    }\n",
       "\n",
       "    .dataframe tbody tr th {\n",
       "        vertical-align: top;\n",
       "    }\n",
       "\n",
       "    .dataframe thead th {\n",
       "        text-align: right;\n",
       "    }\n",
       "</style>\n",
       "<table border=\"1\" class=\"dataframe\">\n",
       "  <thead>\n",
       "    <tr style=\"text-align: right;\">\n",
       "      <th></th>\n",
       "      <th>GRTYPE</th>\n",
       "      <th>Total</th>\n",
       "      <th>Black</th>\n",
       "      <th>Hisp</th>\n",
       "      <th>AA_H</th>\n",
       "    </tr>\n",
       "    <tr>\n",
       "      <th>UNITID</th>\n",
       "      <th></th>\n",
       "      <th></th>\n",
       "      <th></th>\n",
       "      <th></th>\n",
       "      <th></th>\n",
       "    </tr>\n",
       "  </thead>\n",
       "  <tbody>\n",
       "    <tr>\n",
       "      <th>100654</th>\n",
       "      <td>2</td>\n",
       "      <td>928.0</td>\n",
       "      <td>867.0</td>\n",
       "      <td>11.0</td>\n",
       "      <td>878.0</td>\n",
       "    </tr>\n",
       "    <tr>\n",
       "      <th>100654</th>\n",
       "      <td>3</td>\n",
       "      <td>276.0</td>\n",
       "      <td>261.0</td>\n",
       "      <td>3.0</td>\n",
       "      <td>264.0</td>\n",
       "    </tr>\n",
       "    <tr>\n",
       "      <th>100654</th>\n",
       "      <td>4</td>\n",
       "      <td>342.0</td>\n",
       "      <td>317.0</td>\n",
       "      <td>5.0</td>\n",
       "      <td>322.0</td>\n",
       "    </tr>\n",
       "    <tr>\n",
       "      <th>100654</th>\n",
       "      <td>6</td>\n",
       "      <td>932.0</td>\n",
       "      <td>871.0</td>\n",
       "      <td>11.0</td>\n",
       "      <td>882.0</td>\n",
       "    </tr>\n",
       "    <tr>\n",
       "      <th>100654</th>\n",
       "      <td>7</td>\n",
       "      <td>4.0</td>\n",
       "      <td>4.0</td>\n",
       "      <td>0.0</td>\n",
       "      <td>4.0</td>\n",
       "    </tr>\n",
       "  </tbody>\n",
       "</table>\n",
       "</div>"
      ],
      "text/plain": [
       "        GRTYPE  Total  Black  Hisp   AA_H\n",
       "UNITID                                   \n",
       "100654       2  928.0  867.0  11.0  878.0\n",
       "100654       3  276.0  261.0   3.0  264.0\n",
       "100654       4  342.0  317.0   5.0  322.0\n",
       "100654       6  932.0  871.0  11.0  882.0\n",
       "100654       7    4.0    4.0   0.0    4.0"
      ]
     },
     "execution_count": 6,
     "metadata": {},
     "output_type": "execute_result"
    }
   ],
   "source": [
    "# We'll read in the grad rate file and add an AA_H column\n",
    "gr_df = pd.read_csv(gr_file, index_col=['UNITID'],\n",
    "                    usecols=['UNITID', 'GRTYPE', 'GRTOTLT','GRBKAAT','GRHISPT'],\n",
    "                    na_values='.',\n",
    "                    dtype={'GRTOTLT':float,'GRBKAAT':float,'GRHISPT':float},\n",
    "                    encoding='latin-1')\n",
    "gr_df.rename(columns={'GRTOTLT':'Total','GRBKAAT':'Black','GRHISPT':'Hisp'}, inplace=True)\n",
    "gr_df['AA_H']=gr_df.Black+gr_df.Hisp\n",
    "gr_df.head()"
   ]
  },
  {
   "cell_type": "code",
   "execution_count": 7,
   "metadata": {},
   "outputs": [
    {
     "name": "stdout",
     "output_type": "stream",
     "text": [
      "50447, 3556\n"
     ]
    }
   ],
   "source": [
    "# We now have to sort through these GRTYPES:\n",
    "# 8 is the adjusted cohort for bachelor's seeking students (completions: 12=6yr, 13=4yr, 14=5yr; transfers=16)\n",
    "# 29 for associate's seeking (completions: 30=3yr 35=2yr; transfers=33)\n",
    "# We'll build a list of unitids that have both starting cohorts and completions for either one\n",
    "valid_unitids = {}\n",
    "valid_unitids = list( (set(gr_df[gr_df['GRTYPE']==8].index) & set(gr_df[gr_df['GRTYPE']==12].index)) |\n",
    "                                (set(gr_df[gr_df['GRTYPE']==29].index) & set(gr_df[gr_df['GRTYPE']==30].index)) )\n",
    "print(f\"{len(gr_df)}, {len(valid_unitids)}\")"
   ]
  },
  {
   "cell_type": "code",
   "execution_count": 8,
   "metadata": {},
   "outputs": [
    {
     "data": {
      "text/html": [
       "<div>\n",
       "<style scoped>\n",
       "    .dataframe tbody tr th:only-of-type {\n",
       "        vertical-align: middle;\n",
       "    }\n",
       "\n",
       "    .dataframe tbody tr th {\n",
       "        vertical-align: top;\n",
       "    }\n",
       "\n",
       "    .dataframe thead th {\n",
       "        text-align: right;\n",
       "    }\n",
       "</style>\n",
       "<table border=\"1\" class=\"dataframe\">\n",
       "  <thead>\n",
       "    <tr style=\"text-align: right;\">\n",
       "      <th></th>\n",
       "      <th>INSTNM</th>\n",
       "      <th>ICLEVEL</th>\n",
       "      <th>Cl_Total</th>\n",
       "      <th>Cl_Black</th>\n",
       "      <th>Cl_Hisp</th>\n",
       "      <th>Cl_AA_H</th>\n",
       "      <th>St_Total</th>\n",
       "      <th>St_Black</th>\n",
       "      <th>St_Hisp</th>\n",
       "      <th>St_AA_H</th>\n",
       "      <th>...</th>\n",
       "      <th>GR_Hisp</th>\n",
       "      <th>GR4_Hisp</th>\n",
       "      <th>GR5_Hisp</th>\n",
       "      <th>Xfr_Hisp</th>\n",
       "      <th>CI_Hisp</th>\n",
       "      <th>GR_AA_H</th>\n",
       "      <th>GR4_AA_H</th>\n",
       "      <th>GR5_AA_H</th>\n",
       "      <th>Xfr_AA_H</th>\n",
       "      <th>CI_AA_H</th>\n",
       "    </tr>\n",
       "    <tr>\n",
       "      <th>UNITID</th>\n",
       "      <th></th>\n",
       "      <th></th>\n",
       "      <th></th>\n",
       "      <th></th>\n",
       "      <th></th>\n",
       "      <th></th>\n",
       "      <th></th>\n",
       "      <th></th>\n",
       "      <th></th>\n",
       "      <th></th>\n",
       "      <th></th>\n",
       "      <th></th>\n",
       "      <th></th>\n",
       "      <th></th>\n",
       "      <th></th>\n",
       "      <th></th>\n",
       "      <th></th>\n",
       "      <th></th>\n",
       "      <th></th>\n",
       "      <th></th>\n",
       "      <th></th>\n",
       "    </tr>\n",
       "  </thead>\n",
       "  <tbody>\n",
       "    <tr>\n",
       "      <th>100654</th>\n",
       "      <td>Alabama A &amp; M University</td>\n",
       "      <td>1</td>\n",
       "      <td>276.0</td>\n",
       "      <td>261.0</td>\n",
       "      <td>3.0</td>\n",
       "      <td>264.0</td>\n",
       "      <td>928.0</td>\n",
       "      <td>867.0</td>\n",
       "      <td>11.0</td>\n",
       "      <td>878.0</td>\n",
       "      <td>...</td>\n",
       "      <td>0.272727</td>\n",
       "      <td>0.181818</td>\n",
       "      <td>0.090909</td>\n",
       "      <td>0.454545</td>\n",
       "      <td>0.134282</td>\n",
       "      <td>0.300683</td>\n",
       "      <td>0.078588</td>\n",
       "      <td>0.158314</td>\n",
       "      <td>0.366743</td>\n",
       "      <td>0.015475</td>\n",
       "    </tr>\n",
       "    <tr>\n",
       "      <th>100663</th>\n",
       "      <td>University of Alabama at Birmingham</td>\n",
       "      <td>1</td>\n",
       "      <td>1092.0</td>\n",
       "      <td>214.0</td>\n",
       "      <td>27.0</td>\n",
       "      <td>241.0</td>\n",
       "      <td>1725.0</td>\n",
       "      <td>384.0</td>\n",
       "      <td>40.0</td>\n",
       "      <td>424.0</td>\n",
       "      <td>...</td>\n",
       "      <td>0.675000</td>\n",
       "      <td>0.325000</td>\n",
       "      <td>0.275000</td>\n",
       "      <td>0.150000</td>\n",
       "      <td>0.074057</td>\n",
       "      <td>0.568396</td>\n",
       "      <td>0.304245</td>\n",
       "      <td>0.209906</td>\n",
       "      <td>0.247642</td>\n",
       "      <td>0.024054</td>\n",
       "    </tr>\n",
       "    <tr>\n",
       "      <th>100690</th>\n",
       "      <td>Amridge University</td>\n",
       "      <td>1</td>\n",
       "      <td>1.0</td>\n",
       "      <td>0.0</td>\n",
       "      <td>0.0</td>\n",
       "      <td>0.0</td>\n",
       "      <td>2.0</td>\n",
       "      <td>1.0</td>\n",
       "      <td>0.0</td>\n",
       "      <td>1.0</td>\n",
       "      <td>...</td>\n",
       "      <td>NaN</td>\n",
       "      <td>NaN</td>\n",
       "      <td>NaN</td>\n",
       "      <td>NaN</td>\n",
       "      <td>NaN</td>\n",
       "      <td>0.000000</td>\n",
       "      <td>0.000000</td>\n",
       "      <td>NaN</td>\n",
       "      <td>NaN</td>\n",
       "      <td>0.000000</td>\n",
       "    </tr>\n",
       "    <tr>\n",
       "      <th>100706</th>\n",
       "      <td>University of Alabama in Huntsville</td>\n",
       "      <td>1</td>\n",
       "      <td>368.0</td>\n",
       "      <td>30.0</td>\n",
       "      <td>5.0</td>\n",
       "      <td>35.0</td>\n",
       "      <td>638.0</td>\n",
       "      <td>70.0</td>\n",
       "      <td>15.0</td>\n",
       "      <td>85.0</td>\n",
       "      <td>...</td>\n",
       "      <td>0.333333</td>\n",
       "      <td>0.200000</td>\n",
       "      <td>0.133333</td>\n",
       "      <td>0.533333</td>\n",
       "      <td>0.121716</td>\n",
       "      <td>0.411765</td>\n",
       "      <td>0.105882</td>\n",
       "      <td>0.247059</td>\n",
       "      <td>0.411765</td>\n",
       "      <td>0.053381</td>\n",
       "    </tr>\n",
       "    <tr>\n",
       "      <th>100724</th>\n",
       "      <td>Alabama State University</td>\n",
       "      <td>1</td>\n",
       "      <td>497.0</td>\n",
       "      <td>425.0</td>\n",
       "      <td>8.0</td>\n",
       "      <td>433.0</td>\n",
       "      <td>1517.0</td>\n",
       "      <td>1380.0</td>\n",
       "      <td>15.0</td>\n",
       "      <td>1395.0</td>\n",
       "      <td>...</td>\n",
       "      <td>0.533333</td>\n",
       "      <td>0.333333</td>\n",
       "      <td>0.200000</td>\n",
       "      <td>0.333333</td>\n",
       "      <td>0.128812</td>\n",
       "      <td>0.310394</td>\n",
       "      <td>0.142652</td>\n",
       "      <td>0.115412</td>\n",
       "      <td>0.379928</td>\n",
       "      <td>0.012387</td>\n",
       "    </tr>\n",
       "  </tbody>\n",
       "</table>\n",
       "<p>5 rows × 42 columns</p>\n",
       "</div>"
      ],
      "text/plain": [
       "                                     INSTNM  ICLEVEL  Cl_Total  Cl_Black  \\\n",
       "UNITID                                                                     \n",
       "100654             Alabama A & M University        1     276.0     261.0   \n",
       "100663  University of Alabama at Birmingham        1    1092.0     214.0   \n",
       "100690                   Amridge University        1       1.0       0.0   \n",
       "100706  University of Alabama in Huntsville        1     368.0      30.0   \n",
       "100724             Alabama State University        1     497.0     425.0   \n",
       "\n",
       "        Cl_Hisp  Cl_AA_H  St_Total  St_Black  St_Hisp  St_AA_H    ...     \\\n",
       "UNITID                                                            ...      \n",
       "100654      3.0    264.0     928.0     867.0     11.0    878.0    ...      \n",
       "100663     27.0    241.0    1725.0     384.0     40.0    424.0    ...      \n",
       "100690      0.0      0.0       2.0       1.0      0.0      1.0    ...      \n",
       "100706      5.0     35.0     638.0      70.0     15.0     85.0    ...      \n",
       "100724      8.0    433.0    1517.0    1380.0     15.0   1395.0    ...      \n",
       "\n",
       "         GR_Hisp  GR4_Hisp  GR5_Hisp  Xfr_Hisp   CI_Hisp   GR_AA_H  GR4_AA_H  \\\n",
       "UNITID                                                                         \n",
       "100654  0.272727  0.181818  0.090909  0.454545  0.134282  0.300683  0.078588   \n",
       "100663  0.675000  0.325000  0.275000  0.150000  0.074057  0.568396  0.304245   \n",
       "100690       NaN       NaN       NaN       NaN       NaN  0.000000  0.000000   \n",
       "100706  0.333333  0.200000  0.133333  0.533333  0.121716  0.411765  0.105882   \n",
       "100724  0.533333  0.333333  0.200000  0.333333  0.128812  0.310394  0.142652   \n",
       "\n",
       "        GR5_AA_H  Xfr_AA_H   CI_AA_H  \n",
       "UNITID                                \n",
       "100654  0.158314  0.366743  0.015475  \n",
       "100663  0.209906  0.247642  0.024054  \n",
       "100690       NaN       NaN  0.000000  \n",
       "100706  0.247059  0.411765  0.053381  \n",
       "100724  0.115412  0.379928  0.012387  \n",
       "\n",
       "[5 rows x 42 columns]"
      ]
     },
     "execution_count": 8,
     "metadata": {},
     "output_type": "execute_result"
    }
   ],
   "source": [
    "# We'll use the basic \"hd\" directory to form the base of the final year output\n",
    "def create_year_df(df, source_df1, source_df2):\n",
    "    \"\"\"Apply function to pull the appropriate data into a single row per college\"\"\"\n",
    "    ix = df.name\n",
    "    if ix in source_df1.index:\n",
    "        return source_df1.loc[ix][['Total','Black','Hisp','AA_H']]\n",
    "    elif ix in source_df2.index:\n",
    "        return source_df2.loc[ix][['Total','Black','Hisp','AA_H']]\n",
    "    else:\n",
    "        return [np.nan,np.nan,np.nan,np.nan]\n",
    "\n",
    "dir_df = pd.read_csv(directory_file, index_col=['UNITID'],\n",
    "                 usecols=['UNITID','INSTNM','ICLEVEL'],encoding='latin-1')\n",
    "dir_df = dir_df[dir_df.index.isin(valid_unitids)]\n",
    "\n",
    "# First do the completions\n",
    "start1 = gr_df[gr_df.GRTYPE == 12]\n",
    "start2 = gr_df[gr_df.GRTYPE == 30]\n",
    "dir_df[['Cl_Total','Cl_Black','Cl_Hisp','Cl_AA_H']]=dir_df.apply(create_year_df,axis=1,result_type=\"expand\",\n",
    "                                                                args=(start1,start2))\n",
    "# Then do the starts\n",
    "start1 = gr_df[gr_df.GRTYPE == 8]\n",
    "start2 = gr_df[gr_df.GRTYPE == 29]\n",
    "dir_df[['St_Total','St_Black','St_Hisp','St_AA_H']]=dir_df.apply(create_year_df,axis=1,result_type=\"expand\",\n",
    "                                                                args=(start1,start2))\n",
    "# Next the transfers\n",
    "start1 = gr_df[gr_df.GRTYPE == 16]\n",
    "start2 = gr_df[gr_df.GRTYPE == 33]\n",
    "dir_df[['Xf_Total','Xf_Black','Xf_Hisp','Xf_AA_H']]=dir_df.apply(create_year_df,axis=1,result_type=\"expand\",\n",
    "                                                                args=(start1,start2))\n",
    "\n",
    "# Add on-time completions\n",
    "start1 = gr_df[gr_df.GRTYPE == 13]\n",
    "start2 = gr_df[gr_df.GRTYPE == 35]\n",
    "dir_df[['Cl4_Total','Cl4_Black','Cl4_Hisp','Cl4_AA_H']]=dir_df.apply(create_year_df,axis=1,result_type=\"expand\",\n",
    "                                                                args=(start1,start2))\n",
    "\n",
    "# Add 5-year completions (using 3-yr for 2-year colleges)\n",
    "start1 = gr_df[gr_df.GRTYPE == 14]\n",
    "start2 = gr_df[gr_df.GRTYPE == 30]\n",
    "dir_df[['Cl5_Total','Cl5_Black','Cl5_Hisp','Cl5_AA_H']]=dir_df.apply(create_year_df,axis=1,result_type=\"expand\",\n",
    "                                                                args=(start1,start2))\n",
    "\n",
    "# Finally, calculated within year stats\n",
    "for type in ['Total','Black','Hisp','AA_H']:\n",
    "    dir_df['GR_'+type]=dir_df['Cl_'+type]/dir_df['St_'+type]\n",
    "    dir_df['GR4_'+type]=dir_df['Cl4_'+type]/dir_df['St_'+type]\n",
    "    dir_df['GR5_'+type]=dir_df['Cl5_'+type]/dir_df['St_'+type]\n",
    "    dir_df['Xfr_'+type]=dir_df['Xf_'+type]/dir_df['St_'+type]\n",
    "    dir_df['CI_'+type]=np.sqrt(dir_df['GR_'+type]*(1-dir_df['GR_'+type])/dir_df['St_'+type])\n",
    "    dir_df.replace(np.inf,np.nan)\n",
    "dir_df.head()"
   ]
  },
  {
   "cell_type": "code",
   "execution_count": 9,
   "metadata": {},
   "outputs": [],
   "source": [
    "# Here, we'll save for reference\n",
    "dir_df.to_csv(output_file, na_rep=\"N/A\")"
   ]
  },
  {
   "cell_type": "markdown",
   "metadata": {},
   "source": [
    "## Now, we'd like to create some structured data to be used in Excel plots\n",
    "- This will show seats by grad rate percentage, first collectively and second for only AA/H students\n",
    "- the first chart we're interested in looks like this (reference PPTX in the Notebook directory):\n",
    "![First slide](gr_image1.png)\n"
   ]
  },
  {
   "cell_type": "markdown",
   "metadata": {},
   "source": [
    "### There are x numbers to grab for the above slide:\n",
    "- Start year and end year: use the \"Dict\" file or gr2019.xlsx and find the \"cohort year\" for 4-year students. In this case, it was 2013; the end year is then 2013+6=2019\n",
    "- Total number of freshmen seeking bachelor's: this is the sum of St_Total for all colleges with IC_LEVEL=1 (calculated below)\n",
    "- Completion rate: sum of Cl_Total divided by the sum of St_Total"
   ]
  },
  {
   "cell_type": "code",
   "execution_count": 10,
   "metadata": {},
   "outputs": [],
   "source": [
    "df = dir_df[dir_df.ICLEVEL==1]"
   ]
  },
  {
   "cell_type": "code",
   "execution_count": 11,
   "metadata": {},
   "outputs": [
    {
     "name": "stdout",
     "output_type": "stream",
     "text": [
      "Total starts is 1.50M or 1495354\n",
      "Completion rate: 63.0% with 942480 completers\n"
     ]
    }
   ],
   "source": [
    "s_val = \"St_Total\"\n",
    "c_val = \"Cl_Total\"\n",
    "total_sums = df[[s_val,c_val]].sum()\n",
    "print(f\"Total starts is {total_sums[s_val]/1000000:.2f}M or {total_sums[s_val]:.0f}\")\n",
    "print(f\"Completion rate: {total_sums[c_val]/total_sums[s_val]*100:.1f}% with {total_sums[c_val]:.0f} completers\")"
   ]
  },
  {
   "cell_type": "markdown",
   "metadata": {},
   "source": [
    "### Some notes on updating the PowerPoint slide\n",
    "- The X-axis is displayed by PowerPoint like a date; take the total starts number above and display it as a date in an Excel cell to see what the upper bound should be for display\n",
    "- The two integers above should be pasted into the yellow area of the chart data when viewing \"data in Excel\" to update the line"
   ]
  },
  {
   "cell_type": "markdown",
   "metadata": {},
   "source": [
    "---\n",
    "\n",
    "### the second chart we're interested in looks like this (reference PPTX in the Notebook directory):\n",
    "![Second slide](gr_image2.png)\n",
    "\n",
    "- Note that this slide several numbers that simply repeat from the previous one; use those numbers again\n",
    "- Here are the updated 4/5/6 year split numbers:"
   ]
  },
  {
   "cell_type": "code",
   "execution_count": 15,
   "metadata": {},
   "outputs": [
    {
     "name": "stdout",
     "output_type": "stream",
     "text": [
      "Total starts is 1.50M or 1495354\n",
      "Completion rate: 63.0% with 942480 completers\n",
      "4-year Completion rate: 44.7% with 668900 completers\n",
      "5-year Completion rate: 14.7% with 220009 completers\n",
      "6-year only Completion rate: 3.6% with 53571 completers\n"
     ]
    }
   ],
   "source": [
    "s_val = \"St_Total\"\n",
    "c_val = \"Cl_Total\"\n",
    "c4_val = \"Cl4_Total\"\n",
    "c5_val = \"Cl5_Total\"\n",
    "total_sums = df[[s_val, c_val, c4_val, c5_val]].sum()\n",
    "print(f\"Total starts is {total_sums[s_val]/1000000:.2f}M or {total_sums[s_val]:.0f}\")\n",
    "print(f\"Completion rate: {total_sums[c_val]/total_sums[s_val]*100:.1f}% with {total_sums[c_val]:.0f} completers\")\n",
    "print(f\"4-year Completion rate: {total_sums[c4_val]/total_sums[s_val]*100:.1f}% with {total_sums[c4_val]:.0f} completers\")\n",
    "print(f\"5-year Completion rate: {total_sums[c5_val]/total_sums[s_val]*100:.1f}% with {total_sums[c5_val]:.0f} completers\")\n",
    "print(f\"6-year only Completion rate: {(total_sums[c_val]-total_sums[c4_val]-total_sums[c5_val])/total_sums[s_val]*100:.1f}% with {(total_sums[c_val]-total_sums[c4_val]-total_sums[c5_val]):.0f} completers\")"
   ]
  },
  {
   "cell_type": "markdown",
   "metadata": {},
   "source": [
    "---\n",
    "\n",
    "### the third chart we're interested in looks like this (reference PPTX in the Notebook directory):\n",
    "![Third slide](gr_image3.png)\n",
    "\n",
    "- Note that this slide several numbers that simply repeat from the previous one; use those numbers again\n",
    "- The two \"Noble\" callouts are calculated elsewhere (the staff one is from ~2015)\n",
    "- The main detail needed here is a spreadsheet with the data points for each percentile; those will be generated by the following code below; it will have the following format:\n",
    "\n",
    "|(blank)|Height1|Height2|Width|\n",
    "|--------------|-------|-------|-----|\n",
    "|(blank)|0|0|0|\n",
    "|0%|0|0|0|\n",
    "|(blank)|1|205|0|\n",
    "|1%|1|205|206|\n",
    "|(blank)|58|3005|206|\n",
    "|2%|58|3005|3269|\n",
    "|...|...|...|...|\n",
    "|100%|173|0|1487685|\n",
    "|(blank)|0|0|148765|\n",
    "\n",
    "Basically, this version of Excel graph has two rows per data point that are used to \"draw\" the graph shown above\n",
    "- Height1 is the number of completers for the given percentage\n",
    "- Height2 is the number of non-completers for the given percentage\n",
    "- Width is the x position for a point; each percentage has a pair of row where the first value is the cumulative sum of all prior points while the second value is the cumulative with this current percentage added"
   ]
  },
  {
   "cell_type": "code",
   "execution_count": 21,
   "metadata": {},
   "outputs": [
    {
     "name": "stdout",
     "output_type": "stream",
     "text": [
      "352999 or 23.61% of seats below 50%\n",
      "1169286 or 78.19% of seats below 80%\n"
     ]
    }
   ],
   "source": [
    "# This function will create the slice data by number of seats for a set of variables\n",
    "def slice_constructor(df, gr_var, start_var, complete_var):\n",
    "    # gr_var = the label for the grad rate we're slicing by\n",
    "    # start_var = the label for the \"Start\" value used to rate the institution\n",
    "    ret = [[\"\", \"Height1\", \"Height2\", \"Width\"],\n",
    "           [\"\", 0, 0, 0],\n",
    "           [\"0%\", 0, 0, 0]]\n",
    "    cum_count = 0\n",
    "    for i in range(100):\n",
    "        lb = i/100.\n",
    "        ub = (i+1)/100.\n",
    "        cur_df = df[(df[gr_var] > lb) & (df[gr_var] <= ub)]\n",
    "        sum_df = cur_df[[start_var, complete_var]].sum()\n",
    "        starters = sum_df[start_var]\n",
    "        completers = sum_df[complete_var]\n",
    "        non_completers = starters - completers\n",
    "        ret.extend([\n",
    "            [\"\", int(completers), int(non_completers), int(cum_count)],\n",
    "            [f\"{i+1}%\", int(completers), int(non_completers), int(cum_count + starters)]\n",
    "        ])\n",
    "        cum_count += starters\n",
    "        if i == 49:\n",
    "            lte_50_count = cum_count\n",
    "        if i == 79:\n",
    "            lte_80_count = cum_count\n",
    "            \n",
    "    ret.extend([[\"\", 0, 0, int(cum_count)]])\n",
    "    \n",
    "    return (\n",
    "        ret,\n",
    "        lte_50_count,\n",
    "        lte_80_count,\n",
    "        cum_count\n",
    "    )\n",
    "\n",
    "slide_lol, lte_50_count, lte_80_count, all_count = slice_constructor(df, \"GR_Total\", \"St_Total\", \"Cl_Total\")\n",
    "\n",
    "with open(\"total_slices.csv\", \"w\", newline=\"\") as f:\n",
    "    writer = csv.writer(f)\n",
    "    writer.writerows(slide_lol)\n",
    "\n",
    "print(f\"{lte_50_count:.0f} or {lte_50_count/all_count*100:.2f}% of seats below 50%\")\n",
    "print(f\"{lte_80_count:.0f} or {lte_80_count/all_count*100:.2f}% of seats below 80%\")"
   ]
  },
  {
   "cell_type": "markdown",
   "metadata": {},
   "source": [
    "---\n",
    "\n",
    "### the fourth through sixth charts we're interested in looks like this (reference PPTX in the Notebook directory):\n",
    "![Fourth slide](gr_image4.png)\n",
    "![Fifth slide](gr_image5.png)\n",
    "![Sixth slide](gr_image6.png)\n",
    "\n",
    "- Note that these are basically recuts by race, but holding the x-axis the same"
   ]
  },
  {
   "cell_type": "code",
   "execution_count": 22,
   "metadata": {},
   "outputs": [
    {
     "name": "stdout",
     "output_type": "stream",
     "text": [
      "Total starts is 0.36M or 359177\n",
      "Completion rate: 50.7% with 182245 completers\n"
     ]
    }
   ],
   "source": [
    "# First the fourth chart\n",
    "s_val = \"St_AA_H\"\n",
    "c_val = \"Cl_AA_H\"\n",
    "total_sums = df[[s_val,c_val]].sum()\n",
    "print(f\"Total starts is {total_sums[s_val]/1000000:.2f}M or {total_sums[s_val]:.0f}\")\n",
    "print(f\"Completion rate: {total_sums[c_val]/total_sums[s_val]*100:.1f}% with {total_sums[c_val]:.0f} completers\")"
   ]
  },
  {
   "cell_type": "code",
   "execution_count": 23,
   "metadata": {},
   "outputs": [
    {
     "name": "stdout",
     "output_type": "stream",
     "text": [
      "Total starts is 0.36M or 359177\n",
      "Completion rate: 50.7% with 182245 completers\n",
      "4-year Completion rate: 29.6% with 106472 completers\n",
      "5-year Completion rate: 16.1% with 57773 completers\n",
      "6-year only Completion rate: 5.0% with 18000 completers\n"
     ]
    }
   ],
   "source": [
    "# Next the fifth chart\n",
    "s_val = \"St_AA_H\"\n",
    "c_val = \"Cl_AA_H\"\n",
    "c4_val = \"Cl4_AA_H\"\n",
    "c5_val = \"Cl5_AA_H\"\n",
    "total_sums = df[[s_val, c_val, c4_val, c5_val]].sum()\n",
    "print(f\"Total starts is {total_sums[s_val]/1000000:.2f}M or {total_sums[s_val]:.0f}\")\n",
    "print(f\"Completion rate: {total_sums[c_val]/total_sums[s_val]*100:.1f}% with {total_sums[c_val]:.0f} completers\")\n",
    "print(f\"4-year Completion rate: {total_sums[c4_val]/total_sums[s_val]*100:.1f}% with {total_sums[c4_val]:.0f} completers\")\n",
    "print(f\"5-year Completion rate: {total_sums[c5_val]/total_sums[s_val]*100:.1f}% with {total_sums[c5_val]:.0f} completers\")\n",
    "print(f\"6-year only Completion rate: {(total_sums[c_val]-total_sums[c4_val]-total_sums[c5_val])/total_sums[s_val]*100:.1f}% with {(total_sums[c_val]-total_sums[c4_val]-total_sums[c5_val]):.0f} completers\")"
   ]
  },
  {
   "cell_type": "code",
   "execution_count": 26,
   "metadata": {},
   "outputs": [
    {
     "name": "stdout",
     "output_type": "stream",
     "text": [
      "176929 or 49.34% of seats below 50%\n",
      "330691 or 92.23% of seats below 80%\n"
     ]
    }
   ],
   "source": [
    "# Now the 6th chart:\n",
    "slide_lol_aah, lte_50_count_aah, lte_80_count_aah, all_count_aah = slice_constructor(df, \"GR_AA_H\", \"St_AA_H\", \"Cl_AA_H\")\n",
    "\n",
    "with open(\"aah_slices.csv\", \"w\", newline=\"\") as f:\n",
    "    writer = csv.writer(f)\n",
    "    writer.writerows(slide_lol_aah)\n",
    "\n",
    "print(f\"{lte_50_count_aah:.0f} or {lte_50_count_aah/all_count_aah*100:.2f}% of seats below 50%\")\n",
    "print(f\"{lte_80_count_aah:.0f} or {lte_80_count_aah/all_count_aah*100:.2f}% of seats below 80%\")"
   ]
  },
  {
   "cell_type": "markdown",
   "metadata": {},
   "source": [
    "---\n",
    "### BONUS: New this time around, we'll add stats for Black students specifically"
   ]
  },
  {
   "cell_type": "code",
   "execution_count": 27,
   "metadata": {},
   "outputs": [
    {
     "name": "stdout",
     "output_type": "stream",
     "text": [
      "Total starts is 0.16M or 158026\n",
      "Completion rate: 44.2% with 69894 completers\n"
     ]
    }
   ],
   "source": [
    "# Fourth chart repeated, Black only\n",
    "s_val = \"St_Black\"\n",
    "c_val = \"Cl_Black\"\n",
    "total_sums = df[[s_val,c_val]].sum()\n",
    "print(f\"Total starts is {total_sums[s_val]/1000000:.2f}M or {total_sums[s_val]:.0f}\")\n",
    "print(f\"Completion rate: {total_sums[c_val]/total_sums[s_val]*100:.1f}% with {total_sums[c_val]:.0f} completers\")"
   ]
  },
  {
   "cell_type": "code",
   "execution_count": 28,
   "metadata": {},
   "outputs": [
    {
     "name": "stdout",
     "output_type": "stream",
     "text": [
      "Total starts is 0.16M or 158026\n",
      "Completion rate: 44.2% with 69894 completers\n",
      "4-year Completion rate: 25.7% with 40568 completers\n",
      "5-year Completion rate: 14.5% with 22912 completers\n",
      "6-year only Completion rate: 4.1% with 6414 completers\n"
     ]
    }
   ],
   "source": [
    "# Next the fifth chart, Black only\n",
    "s_val = \"St_Black\"\n",
    "c_val = \"Cl_Black\"\n",
    "c4_val = \"Cl4_Black\"\n",
    "c5_val = \"Cl5_Black\"\n",
    "total_sums = df[[s_val, c_val, c4_val, c5_val]].sum()\n",
    "print(f\"Total starts is {total_sums[s_val]/1000000:.2f}M or {total_sums[s_val]:.0f}\")\n",
    "print(f\"Completion rate: {total_sums[c_val]/total_sums[s_val]*100:.1f}% with {total_sums[c_val]:.0f} completers\")\n",
    "print(f\"4-year Completion rate: {total_sums[c4_val]/total_sums[s_val]*100:.1f}% with {total_sums[c4_val]:.0f} completers\")\n",
    "print(f\"5-year Completion rate: {total_sums[c5_val]/total_sums[s_val]*100:.1f}% with {total_sums[c5_val]:.0f} completers\")\n",
    "print(f\"6-year only Completion rate: {(total_sums[c_val]-total_sums[c4_val]-total_sums[c5_val])/total_sums[s_val]*100:.1f}% with {(total_sums[c_val]-total_sums[c4_val]-total_sums[c5_val]):.0f} completers\")"
   ]
  },
  {
   "cell_type": "code",
   "execution_count": 29,
   "metadata": {},
   "outputs": [
    {
     "name": "stdout",
     "output_type": "stream",
     "text": [
      "100478 or 63.80% of seats below 50%\n",
      "149763 or 95.10% of seats below 80%\n"
     ]
    }
   ],
   "source": [
    "# Now the 6th chart, Black only:\n",
    "slide_lol_b, lte_50_count_b, lte_80_count_b, all_count_b = slice_constructor(df, \"GR_Black\", \"St_Black\", \"Cl_Black\")\n",
    "\n",
    "with open(\"Black_slices.csv\", \"w\", newline=\"\") as f:\n",
    "    writer = csv.writer(f)\n",
    "    writer.writerows(slide_lol_b)\n",
    "\n",
    "print(f\"{lte_50_count_b:.0f} or {lte_50_count_b/all_count_b*100:.2f}% of seats below 50%\")\n",
    "print(f\"{lte_80_count_b:.0f} or {lte_80_count_b/all_count_b*100:.2f}% of seats below 80%\")"
   ]
  },
  {
   "cell_type": "code",
   "execution_count": 30,
   "metadata": {},
   "outputs": [
    {
     "name": "stdout",
     "output_type": "stream",
     "text": [
      "Total starts is 0.20M or 201151\n",
      "Completion rate: 55.9% with 112351 completers\n",
      "4-year Completion rate: 32.8% with 65904 completers\n",
      "5-year Completion rate: 17.3% with 34861 completers\n",
      "6-year only Completion rate: 5.8% with 11586 completers\n"
     ]
    }
   ],
   "source": [
    "# Finally, for reference, the 4/5/6 stats for Latinx students:\n",
    "s_val = \"St_Hisp\"\n",
    "c_val = \"Cl_Hisp\"\n",
    "c4_val = \"Cl4_Hisp\"\n",
    "c5_val = \"Cl5_Hisp\"\n",
    "total_sums = df[[s_val, c_val, c4_val, c5_val]].sum()\n",
    "print(f\"Total starts is {total_sums[s_val]/1000000:.2f}M or {total_sums[s_val]:.0f}\")\n",
    "print(f\"Completion rate: {total_sums[c_val]/total_sums[s_val]*100:.1f}% with {total_sums[c_val]:.0f} completers\")\n",
    "print(f\"4-year Completion rate: {total_sums[c4_val]/total_sums[s_val]*100:.1f}% with {total_sums[c4_val]:.0f} completers\")\n",
    "print(f\"5-year Completion rate: {total_sums[c5_val]/total_sums[s_val]*100:.1f}% with {total_sums[c5_val]:.0f} completers\")\n",
    "print(f\"6-year only Completion rate: {(total_sums[c_val]-total_sums[c4_val]-total_sums[c5_val])/total_sums[s_val]*100:.1f}% with {(total_sums[c_val]-total_sums[c4_val]-total_sums[c5_val]):.0f} completers\")"
   ]
  },
  {
   "cell_type": "code",
   "execution_count": null,
   "metadata": {},
   "outputs": [],
   "source": []
  }
 ],
 "metadata": {
  "kernelspec": {
   "display_name": "Python 3",
   "language": "python",
   "name": "python3"
  },
  "language_info": {
   "codemirror_mode": {
    "name": "ipython",
    "version": 3
   },
   "file_extension": ".py",
   "mimetype": "text/x-python",
   "name": "python",
   "nbconvert_exporter": "python",
   "pygments_lexer": "ipython3",
   "version": "3.7.1"
  }
 },
 "nbformat": 4,
 "nbformat_minor": 2
}
