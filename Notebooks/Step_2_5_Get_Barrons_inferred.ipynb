{
 "cells": [
  {
   "cell_type": "markdown",
   "metadata": {},
   "source": [
    "## We're picking up from where we left off in Step 2\n",
    "\n",
    "## Now we have Barrons ratings for everything from the Barrons site, correctly matched to the directory.\n",
    "## We still have to do the following:\n",
    "\n",
    "4. Use the admissions results data file to: _(done in this workbook)_\n",
    "\n",
    " a. Infer Barrons ratings for unrated colleges  \n",
    " b. Create a \"Most Competitive+\" rating for Most Competitive schools that admit 25% or less of applicants\n",
    " \n",
    "## As part of this process, we'll exclude Trade institutions from the list (e.g. schools must at least grant associate's degrees)\n",
    "\n",
    "## We're also going to use this file to cleanup a few initial fields to create the base for the final directory"
   ]
  },
  {
   "cell_type": "code",
   "execution_count": null,
   "metadata": {},
   "outputs": [],
   "source": [
    "import pandas as pd\n",
    "import numpy as np\n",
    "import os\n",
    "\n",
    "# Edit these to reflect any changes\n",
    "os.chdir('../inputs')\n",
    "directory_file = 'hd2017.csv'\n",
    "admissions_file = 'adm2016.csv'\n",
    "gender_file = 'ef2016a.csv'\n",
    "inst_char_file = 'ic2017.csv'\n",
    "clean_barrons_file = '../raw_inputs/true_barrons.csv'\n",
    "sat_to_act_file = '../raw_inputs/sat_to_act.csv'\n",
    "distance_file = 'distance_calcs.csv'\n",
    "base_file = 'base_dir.csv'"
   ]
  },
  {
   "cell_type": "code",
   "execution_count": null,
   "metadata": {},
   "outputs": [],
   "source": [
    "# At the end of this workbook, we'll want to have a \"base directory\" for adding to the other steps\n",
    "#final_columns = ['UNITID','INSTNM',*'CollegeName'*,'ADDR','CITY','STABBR',\n",
    "#                 'ZIP',*'HBCU'*,*'Type'*,'IALIAS','F1SYSNAM','LONGITUD','LATITUDE',\n",
    "#                 'DistFromChicago'\t'BarronsRating'\t'SimpleBarrons']\n",
    "\n",
    "# In order to get to these, we'll start with these direct pulls from the directory:\n",
    "pull_columns = ['UNITID','INSTNM','ADDR','CITY','STABBR',\n",
    "                 'ZIP','HBCU','IALIAS','F1SYSNAM','LONGITUD','LATITUDE','SECTOR']"
   ]
  },
  {
   "cell_type": "code",
   "execution_count": null,
   "metadata": {},
   "outputs": [],
   "source": [
    "# First, we'll start off with a Base directory of all of the colleges in HD that have SECTOR 1-6,\n",
    "# which are 2yr and 4yr granting schools\n",
    "\n",
    "dir_df = pd.read_csv(directory_file, index_col=['UNITID'],\n",
    "                     usecols=pull_columns,\n",
    "                     dtype={'ZIP':str},\n",
    "                     na_values='.',\n",
    "                     encoding='latin-1')\n",
    "dir_df = dir_df[dir_df.SECTOR.isin([1,2,3,4,5,6])]\n",
    "dir_df.head()"
   ]
  },
  {
   "cell_type": "code",
   "execution_count": null,
   "metadata": {},
   "outputs": [],
   "source": [
    "# We'll create a simple text field indicates two year vs four year college\n",
    "# We'll also convert the HBCU field to a Yes/No field\n",
    "dir_df['Type'] = dir_df.SECTOR.apply(lambda x: '4 year' if x<4 else '2 year')\n",
    "dir_df.drop(columns=['SECTOR'],inplace=True)\n",
    "dir_df.HBCU = dir_df.HBCU.apply(lambda x: 'Yes' if x==1 else 'No')"
   ]
  },
  {
   "cell_type": "code",
   "execution_count": null,
   "metadata": {},
   "outputs": [],
   "source": [
    "# Next, we're going to create a \"college name\" field with parenthetical\n",
    "# descriptions of each college based on single sex, HBCU, and 2-year status\n",
    "gender_df = pd.read_csv(gender_file, index_col=['UNITID'],\n",
    "                     usecols=['UNITID','EFALEVEL','EFTOTLT','EFTOTLM','EFTOTLW'],\n",
    "                     na_values='.',\n",
    "                     encoding='latin-1')\n",
    "gender_df=gender_df[gender_df.EFALEVEL==1]\n",
    "gender_df['pct_female']=gender_df.EFTOTLW/gender_df.EFTOTLT\n",
    "gender_df.head()"
   ]
  },
  {
   "cell_type": "code",
   "execution_count": null,
   "metadata": {},
   "outputs": [],
   "source": [
    "def create_college_name(df, gender_df):\n",
    "    \"\"\"This function uses gender stats, HBCU status, and type to add descriptor to name\"\"\"\n",
    "    id = df.ID\n",
    "    root = df.INSTNM\n",
    "    root_add = ''\n",
    "    if id in gender_df.index:\n",
    "        pct_f = gender_df.loc[id,'pct_female']\n",
    "        if pct_f >=0.95:\n",
    "            root_add = 'Female only'\n",
    "        elif pct_f <=0.05:\n",
    "            root_add = 'Male only'\n",
    "    if df.HBCU == 'Yes':\n",
    "        if root_add:\n",
    "            root_add = 'HBCU, '+root_add\n",
    "        else:\n",
    "            root_add = 'HBCU'\n",
    "    if df.Type == '2 year':\n",
    "        if root_add:\n",
    "            root_add = root_add + ', 2 year'\n",
    "        else:\n",
    "            root_add = '2 year'\n",
    "    if root_add:\n",
    "        return root+' ('+root_add+')'\n",
    "    else:\n",
    "        return root\n",
    "    \n",
    "dir_df['ID']=dir_df.index\n",
    "dir_df['CollegeName']=dir_df.apply(create_college_name,args=(gender_df,),axis=1)\n",
    "dir_df.drop(columns=['ID'],inplace=True)"
   ]
  },
  {
   "cell_type": "markdown",
   "metadata": {},
   "source": [
    "## Now that we've created a few of the non-Barron's columns, we'll move forward with the Barrons work"
   ]
  },
  {
   "cell_type": "code",
   "execution_count": null,
   "metadata": {},
   "outputs": [],
   "source": [
    "# Now, we'll pull in Barrons and try to infer the Barron's status of missing colleges\n",
    "# First, we'll pull the clean barron's ratings from the prior step\n",
    "# NOTE: If there are multiple rows with the same UNITID, this step will fail\n",
    "barrons_df = pd.read_csv(clean_barrons_file,dtype={'UNITID':str},encoding='cp1252')\n",
    "barrons_df = barrons_df[pd.notnull(barrons_df.UNITID)]\n",
    "barrons_df.UNITID = barrons_df.UNITID.astype(int)\n",
    "barrons_df.set_index(keys=['UNITID'],drop=True,inplace=True)\n",
    "barrons_df.head()"
   ]
  },
  {
   "cell_type": "code",
   "execution_count": null,
   "metadata": {},
   "outputs": [],
   "source": [
    "# Next, we'll add those to the directory with 'TBD' as the default\n",
    "dir_df['BarronsRating'] = dir_df.index.map(lambda x: barrons_df.Selectivity.get(x, 'TBD'))"
   ]
  },
  {
   "cell_type": "code",
   "execution_count": null,
   "metadata": {},
   "outputs": [],
   "source": [
    "# In order to infer selectivity from admissions, we need to add admissions info\n",
    "adm_fields = ['APPLCN','ADMSSN',\n",
    "              'SATPCT','ACTPCT',\n",
    "              'SATVR25','SATVR75','SATMT25','SATMT75',\n",
    "              'ACTCM25','ACTCM75']\n",
    "\n",
    "adm_df = pd.read_csv(admissions_file, index_col=['UNITID'],\n",
    "                     usecols=['UNITID']+adm_fields,\n",
    "                     na_values='.',\n",
    "                     encoding='latin-1')\n",
    "sat_to_act = pd.read_csv(sat_to_act_file, index_col=['SAT'],dtype={'SAT':int,'ACT':int},encoding='cp1252')\n",
    "adm_df['pct_accepted'] = adm_df.ADMSSN/adm_df.APPLCN\n",
    "\n",
    "def calculate_adjact50(df):\n",
    "    \"\"\"\n",
    "    Estimates the median 'ACT' based on 25th to 75th percentile range of either ACT\n",
    "    or converted SAT\n",
    "    \"\"\"\n",
    "    result = np.nan\n",
    "    if df.ACTPCT >= 20 and np.isfinite(df.ACTCM25) and np.isfinite(df.ACTCM75): #reasonable number of ACT\n",
    "        result = (df.ACTCM25 + df.ACTCM75)/2\n",
    "    elif df.SATPCT >= 20 and (np.isfinite(df.SATVR25) and np.isfinite(df.SATMT25) and\n",
    "                              np.isfinite(df.SATVR75) and np.isfinite(df.SATMT75)): #same threshold for SAT\n",
    "        sat25 = int(np.round(df.SATVR25+df.SATMT25,decimals=-1))\n",
    "        sat75 = int(np.round(df.SATVR75+df.SATMT75,decimals=-1))\n",
    "        result = (sat_to_act.ACT[sat25]+sat_to_act.ACT[sat75])/2\n",
    "    return result\n",
    "\n",
    "adm_df['AdjACT50'] = adm_df.apply(calculate_adjact50,axis=1)\n",
    "dir_df = pd.concat([dir_df, adm_df[adm_df.index.isin(dir_df.index)]], axis=1)"
   ]
  },
  {
   "cell_type": "code",
   "execution_count": null,
   "metadata": {},
   "outputs": [],
   "source": [
    "# We also need a single field from this table that indicates if the school is open enrollment\n",
    "inst_char_df = pd.read_csv(inst_char_file, index_col=['UNITID'],\n",
    "                     usecols=['UNITID','OPENADMP'],\n",
    "                     na_values='.',\n",
    "                     encoding='latin-1')\n",
    "dir_df['OpenAdmissions'] = dir_df.index.map(lambda x: inst_char_df.OPENADMP.get(x, -2))"
   ]
  },
  {
   "cell_type": "markdown",
   "metadata": {},
   "source": [
    "## The code above gives us the data we need to start inferring Barrons\n",
    "## The code below does that work"
   ]
  },
  {
   "cell_type": "code",
   "execution_count": null,
   "metadata": {},
   "outputs": [],
   "source": [
    "# First, we'll modify the actual Barron's for the most selective schools to create a new category\n",
    "def make_most_comp_plus(df):\n",
    "    if (df.BarronsRating == 'MOST COMPETITIVE') and (df.pct_accepted <= 0.25):\n",
    "        return 'MOST COMPETITIVE+'\n",
    "    else:\n",
    "        return df.BarronsRating\n",
    "dir_df.BarronsRating = dir_df.apply(make_most_comp_plus, axis=1)"
   ]
  },
  {
   "cell_type": "code",
   "execution_count": null,
   "metadata": {},
   "outputs": [],
   "source": [
    "#Now, we'll start the \"SimpleBarrons\" columns by collapsing the pluses\n",
    "# You can see in \"VERY  COMPETITIVE\" that the original Barrons contains\n",
    "# Some typos. In future years, this code might throw an error if there\n",
    "# is a Barrons rating not in this map\n",
    "barrons_map = { 'MOST COMPETITIVE+':'Most Competitive+',\n",
    "                'MOST COMPETITIVE':'Most Competitive',\n",
    "                'HIGHLY COMPETITIVE+':'Highly Competitive',\n",
    "                'HIGHLY COMPETITIVE':'Highly Competitive',\n",
    "                'VERY  COMPETITIVE':'Very Competitive',\n",
    "                'VERY COMPETITIVE':'Very Competitive',\n",
    "                'VERY COMPETITIVE+':'Very Competitive',\n",
    "                'COMPETITIVE':'Competitive',\n",
    "                'COMPETITIVE+':'Competitive',\n",
    "                'LESS COMPETITIVE':'Less Competitive',\n",
    "                'LESS COMPETITIVE+':'Less Competitive',\n",
    "                'NON COMPETITIVE':'Noncompetitive',\n",
    "                'NONCOMPETITIVE':'Noncompetitive',\n",
    "                'Not Available':'Not Available',\n",
    "                'SPECIAL':'Not Available',\n",
    "                'TBD':'TBD'\n",
    "              }\n",
    "dir_df['SimpleBarrons'] = dir_df.BarronsRating.map(barrons_map)"
   ]
  },
  {
   "cell_type": "code",
   "execution_count": null,
   "metadata": {},
   "outputs": [],
   "source": [
    "#Now we're going to get some statistics in order to create cutoffs for the imputed ratings\n",
    "act_cutoffs = dir_df[['SimpleBarrons','AdjACT50']].groupby(['SimpleBarrons']).describe()['AdjACT50']\n",
    "adm_cutoffs = dir_df[['SimpleBarrons','pct_accepted']].groupby(['SimpleBarrons']).describe()['pct_accepted']\n",
    "print(act_cutoffs.columns)\n",
    "act_cutoffs['25%']"
   ]
  },
  {
   "cell_type": "code",
   "execution_count": null,
   "metadata": {},
   "outputs": [],
   "source": [
    "adm_cutoffs['75%']"
   ]
  },
  {
   "cell_type": "code",
   "execution_count": null,
   "metadata": {},
   "outputs": [],
   "source": [
    "def infer_barrons(df, adm, act):\n",
    "    \"\"\"\n",
    "    Apply function to take college data and ACT/Admissions percentile\n",
    "    cutoffs to infer Barrons categories\n",
    "    \"\"\"\n",
    "    response = df.SimpleBarrons\n",
    "    if response != 'TBD':\n",
    "        return response\n",
    "    \n",
    "    if df.OpenAdmissions == 1:\n",
    "        if df.Type == '4 year':\n",
    "            return 'Noncompetitive'\n",
    "        else:\n",
    "            return '2 year (Noncompetitive)'\n",
    "    \n",
    "    if df.Type == '2 year':\n",
    "        if df.pct_accepted < 0.9:\n",
    "            return '2 year (Competitive)'\n",
    "        else:\n",
    "            return '2 year (Noncompetitive)'\n",
    "    if np.isfinite(df.AdjACT50) and np.isfinite(df.pct_accepted):\n",
    "        # Generally, the bar should be met for both metrics to be included\n",
    "        for check in ['Most Competitive+', 'Most Competitive',\n",
    "                      'Highly Competitive', 'Very Competitive',\n",
    "                      'Competitive', 'Less Competitive']:\n",
    "            if (df.AdjACT50 >= act[check]) and (df.pct_accepted <= adm[check]):\n",
    "                return check\n",
    "        if df.pct_accepted <= 0.5:\n",
    "            return 'Less Competitive'\n",
    "        else:\n",
    "            return 'Noncompetitive'\n",
    "    else:\n",
    "        return 'Not available'\n",
    "    \n",
    "    return response\n",
    "\n",
    "dir_df['SimpleBarrons'] = dir_df.apply(infer_barrons, args=(adm_cutoffs['75%'],act_cutoffs['25%']),axis=1)"
   ]
  },
  {
   "cell_type": "code",
   "execution_count": null,
   "metadata": {},
   "outputs": [],
   "source": [
    "# Now that we've got everything done, we'll save off the base_directory\n",
    "\n",
    "#Quick change to Open Admissions to make intelligible\n",
    "dir_df['OpenAdmissions'] = dir_df.OpenAdmissions.map({1:'Yes',2:'No',-2:'N/A'})\n",
    "\n",
    "# Bring back in the distance calculation from before\n",
    "distance_df = pd.read_csv(distance_file, index_col=['UNITID'],encoding='cp1252')\n",
    "dir_df['DistFromChicago'] = dir_df.index.map(lambda x: distance_df.dist.get(x, np.nan))\n",
    "\n",
    "# Finally, cull/reorder and save\n",
    "final_names = ['INSTNM','CollegeName','ADDR','CITY','STABBR',\n",
    "               'ZIP','HBCU','Type','IALIAS','F1SYSNAM','LONGITUD','LATITUDE',\n",
    "               'DistFromChicago','BarronsRating','SimpleBarrons','OpenAdmissions']\n",
    "dir_df[final_names].to_csv(base_file, na_rep='N/A')"
   ]
  },
  {
   "cell_type": "code",
   "execution_count": null,
   "metadata": {},
   "outputs": [],
   "source": []
  }
 ],
 "metadata": {
  "kernelspec": {
   "display_name": "Python 3",
   "language": "python",
   "name": "python3"
  },
  "language_info": {
   "codemirror_mode": {
    "name": "ipython",
    "version": 3
   },
   "file_extension": ".py",
   "mimetype": "text/x-python",
   "name": "python",
   "nbconvert_exporter": "python",
   "pygments_lexer": "ipython3",
   "version": "3.6.5"
  }
 },
 "nbformat": 4,
 "nbformat_minor": 2
}
